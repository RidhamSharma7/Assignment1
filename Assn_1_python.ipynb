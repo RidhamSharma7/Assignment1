{
  "nbformat": 4,
  "nbformat_minor": 0,
  "metadata": {
    "colab": {
      "provenance": [],
      "authorship_tag": "ABX9TyPsDHC6sZtywis060/ifdNO",
      "include_colab_link": true
    },
    "kernelspec": {
      "name": "python3",
      "display_name": "Python 3"
    },
    "language_info": {
      "name": "python"
    }
  },
  "cells": [
    {
      "cell_type": "markdown",
      "metadata": {
        "id": "view-in-github",
        "colab_type": "text"
      },
      "source": [
        "<a href=\"https://colab.research.google.com/github/RidhamSharma7/Assignment1/blob/main/Assn_1_python.ipynb\" target=\"_parent\"><img src=\"https://colab.research.google.com/assets/colab-badge.svg\" alt=\"Open In Colab\"/></a>"
      ]
    },
    {
      "cell_type": "markdown",
      "source": [
        "ASSIGNMENT 1\n",
        "Q1. (1\n"
      ],
      "metadata": {
        "id": "mZR2gnUtlrx8"
      }
    },
    {
      "cell_type": "code",
      "source": [
        "L=[11,12,13,14]\n",
        "L.append(50)\n",
        "L.append(60)\n",
        "print(L)\n",
        "\n"
      ],
      "metadata": {
        "colab": {
          "base_uri": "https://localhost:8080/"
        },
        "id": "3TGYCtVqmLO3",
        "outputId": "d55aafb0-5dc1-4dbc-e51a-1e9d9ac8acb2"
      },
      "execution_count": null,
      "outputs": [
        {
          "output_type": "stream",
          "name": "stdout",
          "text": [
            "[11, 12, 13, 14, 50, 60]\n"
          ]
        }
      ]
    },
    {
      "cell_type": "markdown",
      "source": [
        "(3\n"
      ],
      "metadata": {
        "id": "L0W_7mR0nLCH"
      }
    },
    {
      "cell_type": "code",
      "source": [
        "A=[11,12,14,13]\n",
        "A.sort(\\\n",
        "       )\n",
        "print(A)\n"
      ],
      "metadata": {
        "colab": {
          "base_uri": "https://localhost:8080/"
        },
        "id": "SfBqYLXtoEKn",
        "outputId": "a7dec6d1-1b03-406f-ac7d-4e29c8726bad"
      },
      "execution_count": null,
      "outputs": [
        {
          "output_type": "stream",
          "name": "stdout",
          "text": [
            "[11, 12, 13, 14]\n"
          ]
        }
      ]
    },
    {
      "cell_type": "markdown",
      "source": [
        "(2"
      ],
      "metadata": {
        "id": "gTAN5mt8vpyn"
      }
    },
    {
      "cell_type": "code",
      "source": [
        "L=[11,12,13,14]\n",
        "L.remove(11)\n",
        "L.remove(13)\n"
      ],
      "metadata": {
        "id": "lUUbz2YVvrG9"
      },
      "execution_count": null,
      "outputs": []
    },
    {
      "cell_type": "code",
      "source": [
        "print(L\n",
        "      )"
      ],
      "metadata": {
        "colab": {
          "base_uri": "https://localhost:8080/"
        },
        "id": "q_8r03RSxUea",
        "outputId": "b93d318e-7ae4-4e9d-9c3e-7b72a14e36b6"
      },
      "execution_count": null,
      "outputs": [
        {
          "output_type": "stream",
          "name": "stdout",
          "text": [
            "[12, 14]\n"
          ]
        }
      ]
    },
    {
      "cell_type": "markdown",
      "source": [
        "(5"
      ],
      "metadata": {
        "id": "99bob4cnptYy"
      }
    },
    {
      "cell_type": "code",
      "source": [
        "if 13 in A :\n",
        "  print('13 is present in the list')\n",
        "else:\n",
        "  print(\"13 is not present\")\n"
      ],
      "metadata": {
        "colab": {
          "base_uri": "https://localhost:8080/"
        },
        "id": "olKHRdoWpP6m",
        "outputId": "7b988f7f-7961-4713-e5ca-b2bb596ed9ef"
      },
      "execution_count": null,
      "outputs": [
        {
          "output_type": "stream",
          "name": "stdout",
          "text": [
            "13 is present in the list\n"
          ]
        }
      ]
    },
    {
      "cell_type": "markdown",
      "source": [
        "(6"
      ],
      "metadata": {
        "id": "LeoKflS6pwXl"
      }
    },
    {
      "cell_type": "code",
      "source": [
        "L=[11,12,13,14]\n",
        "print(\"Number of elements:\",len(L))\n"
      ],
      "metadata": {
        "colab": {
          "base_uri": "https://localhost:8080/"
        },
        "id": "3liaFNncp1ZW",
        "outputId": "9437ac1f-4a7f-4ac9-ca8d-c189a79272ad"
      },
      "execution_count": null,
      "outputs": [
        {
          "output_type": "stream",
          "name": "stdout",
          "text": [
            "Number of elements: 4\n"
          ]
        }
      ]
    },
    {
      "cell_type": "markdown",
      "source": [
        "(7"
      ],
      "metadata": {
        "id": "7IVec_DUqsIT"
      }
    },
    {
      "cell_type": "code",
      "source": [
        "print(sum(L))"
      ],
      "metadata": {
        "colab": {
          "base_uri": "https://localhost:8080/"
        },
        "id": "85-OCcyPqwWo",
        "outputId": "7b5f263f-7ded-41a0-d595-51d6428163ea"
      },
      "execution_count": null,
      "outputs": [
        {
          "output_type": "stream",
          "name": "stdout",
          "text": [
            "50\n"
          ]
        }
      ]
    },
    {
      "cell_type": "markdown",
      "source": [
        "(10,8"
      ],
      "metadata": {
        "id": "Nv3DFk4wrUft"
      }
    },
    {
      "cell_type": "code",
      "source": [
        "L=[11,12,13,14]\n",
        "L_sum= sum(num for num in L if num % 2\n",
        "\n",
        "           != 0)\n",
        "print(L_sum)"
      ],
      "metadata": {
        "colab": {
          "base_uri": "https://localhost:8080/"
        },
        "id": "Y_Xd8iFWrVuk",
        "outputId": "252f5476-6f01-498b-9a9f-9a9c416573dd"
      },
      "execution_count": null,
      "outputs": [
        {
          "output_type": "stream",
          "name": "stdout",
          "text": [
            "24\n"
          ]
        }
      ]
    },
    {
      "cell_type": "markdown",
      "source": [
        "(9"
      ],
      "metadata": {
        "id": "W-bypRNzs-mn"
      }
    },
    {
      "cell_type": "code",
      "source": [
        "L_sum= sum(num for num in L if num % 2 ==0)\n",
        "print(L_sum)"
      ],
      "metadata": {
        "colab": {
          "base_uri": "https://localhost:8080/"
        },
        "id": "RLZVC8_xtBGl",
        "outputId": "ffa052ab-dd77-472d-dec0-6047c713c912"
      },
      "execution_count": null,
      "outputs": [
        {
          "output_type": "stream",
          "name": "stdout",
          "text": [
            "26\n"
          ]
        }
      ]
    },
    {
      "cell_type": "markdown",
      "source": [
        "11."
      ],
      "metadata": {
        "id": "u1L_dWEGuDbw"
      }
    },
    {
      "cell_type": "code",
      "source": [
        "L.clear()\n",
        "print(L)"
      ],
      "metadata": {
        "colab": {
          "base_uri": "https://localhost:8080/"
        },
        "id": "B2gi41fAuHTZ",
        "outputId": "2808a5a9-7721-4bf3-fce3-1f9d4b0954f4"
      },
      "execution_count": null,
      "outputs": [
        {
          "output_type": "stream",
          "name": "stdout",
          "text": [
            "[]\n"
          ]
        }
      ]
    },
    {
      "cell_type": "markdown",
      "source": [
        "12."
      ],
      "metadata": {
        "id": "T2ERc7i5vHD9"
      }
    },
    {
      "cell_type": "code",
      "source": [
        "L=[11,12,13,14]\n",
        "del L\n"
      ],
      "metadata": {
        "id": "sGsDF3_6vJde"
      },
      "execution_count": null,
      "outputs": []
    }
  ]
}